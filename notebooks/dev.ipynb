{
 "cells": [
  {
   "cell_type": "code",
   "execution_count": 3,
   "metadata": {
    "tags": []
   },
   "outputs": [
    {
     "data": {
      "text/plain": [
       "<module 'mypy' from '/home/ubuntu/dev/__pypackages__/3.10/lib/mypy/__init__.cpython-310-x86_64-linux-gnu.so'>"
      ]
     },
     "execution_count": 3,
     "metadata": {},
     "output_type": "execute_result"
    }
   ],
   "source": [
    "import mypy\n",
    "mypy"
   ]
  },
  {
   "cell_type": "code",
   "execution_count": null,
   "metadata": {},
   "outputs": [],
   "source": [
    "%cd /home/ubuntu/lunchbox/python\n",
    "from lunchbox.enforce import *\n",
    "\n",
    "class Foo:\n",
    "    pass\n",
    "\n",
    "class Bar:\n",
    "    pass\n",
    "\n",
    "Enforce(Foo(), '==', Bar(), 'type_name')\n",
    "\n",
    "a = 12\n",
    "b = 10\n",
    "Enforce(a, '!=', b, 'type_name')\n",
    "# Enforce(10, '!=', 10)\n",
    "# Enforce(a, '~', b, epsilon=1)\n",
    "\n",
    "class Foo(Enforce):\n",
    "    def get_value(self, item):\n",
    "        return item.value\n",
    "    \n",
    "class Bar:\n",
    "    def __init__(self, value):\n",
    "        self.value = value\n",
    "\n",
    "    def __repr__(self):\n",
    "        return f'Bar<{self.value}>'\n",
    "    \n",
    "a = Bar(12)\n",
    "b = Bar(10)\n",
    "msg = '''\n",
    "a       --> {a}\n",
    "b       --> {b}\n",
    "a_val   --> {a_val}\n",
    "b_val   --> {b_val}\n",
    "delta   --> {delta}\n",
    "epsilon --> {epsilon}'''\n",
    "Foo(a, '==', b, 'value', message=msg)"
   ]
  },
  {
   "cell_type": "code",
   "execution_count": 28,
   "metadata": {},
   "outputs": [],
   "source": [
    "class Foo:\n",
    "    def __init__(self, value):\n",
    "        self.value = value\n",
    "    def __repr__(self):\n",
    "        return '<Foo>'\n",
    "class Bar:\n",
    "    def __init__(self, value):\n",
    "        self.value = value\n",
    "    def __repr__(self):\n",
    "        return '<Bar>'\n",
    "\n",
    "Enforce(Foo(1), '==', Foo(2), 'type_name')\n",
    "# Enforce(Foo(1), '==', Bar(2), 'type_name')\n",
    "\n",
    "class EnforceFooBar(Enforce):\n",
    "    def get_value(self, item):\n",
    "        return item.value\n",
    "EnforceFooBar(Foo(1), '==', Bar(1), 'value')\n",
    "# EnforceFooBar(Foo(1), '==', Bar(2), 'value')\n",
    "\n",
    "EnforceFooBar(Foo(1), '~', Bar(5), 'value', epsilon=2)"
   ]
  },
  {
   "cell_type": "code",
   "execution_count": 30,
   "metadata": {},
   "outputs": [
    {
     "ename": "EnforceError",
     "evalue": "<Foo> is not like <Bar>. Please adjust your epsilon, 2, to be higher than 4. A value: 1. B value: 5.",
     "output_type": "error",
     "traceback": [
      "\u001b[0;31m--------------------------------------------------------------------------\u001b[0m",
      "\u001b[0;31mEnforceError\u001b[0m                             Traceback (most recent call last)",
      "\u001b[0;32m<ipython-input-30-b4fb44dbd8ea>\u001b[0m in \u001b[0;36m<module>\u001b[0;34m\u001b[0m\n\u001b[1;32m      2\u001b[0m \u001b[0mmsg\u001b[0m \u001b[0;34m+=\u001b[0m \u001b[0;34m'to be higher than {delta}. '\u001b[0m\u001b[0;34m\u001b[0m\u001b[0;34m\u001b[0m\u001b[0m\n\u001b[1;32m      3\u001b[0m \u001b[0mmsg\u001b[0m \u001b[0;34m+=\u001b[0m \u001b[0;34m'A value: {a_val}. B value: {b_val}.'\u001b[0m\u001b[0;34m\u001b[0m\u001b[0;34m\u001b[0m\u001b[0m\n\u001b[0;32m----> 4\u001b[0;31m \u001b[0mEnforceFooBar\u001b[0m\u001b[0;34m(\u001b[0m\u001b[0mFoo\u001b[0m\u001b[0;34m(\u001b[0m\u001b[0;36m1\u001b[0m\u001b[0;34m)\u001b[0m\u001b[0;34m,\u001b[0m \u001b[0;34m'~'\u001b[0m\u001b[0;34m,\u001b[0m \u001b[0mBar\u001b[0m\u001b[0;34m(\u001b[0m\u001b[0;36m5\u001b[0m\u001b[0;34m)\u001b[0m\u001b[0;34m,\u001b[0m \u001b[0;34m'value'\u001b[0m\u001b[0;34m,\u001b[0m \u001b[0mepsilon\u001b[0m\u001b[0;34m=\u001b[0m\u001b[0;36m2\u001b[0m\u001b[0;34m,\u001b[0m \u001b[0mmessage\u001b[0m\u001b[0;34m=\u001b[0m\u001b[0mmsg\u001b[0m\u001b[0;34m)\u001b[0m\u001b[0;34m\u001b[0m\u001b[0;34m\u001b[0m\u001b[0m\n\u001b[0m",
      "\u001b[0;32m~/lunchbox/python/lunchbox/enforce.py\u001b[0m in \u001b[0;36m__init__\u001b[0;34m(self, a, comparator, b, attribute, message, epsilon)\u001b[0m\n\u001b[1;32m     98\u001b[0m             \u001b[0;32mdef\u001b[0m \u001b[0m__init__\u001b[0m\u001b[0;34m(\u001b[0m\u001b[0mself\u001b[0m\u001b[0;34m,\u001b[0m \u001b[0mvalue\u001b[0m\u001b[0;34m)\u001b[0m\u001b[0;34m:\u001b[0m\u001b[0;34m\u001b[0m\u001b[0;34m\u001b[0m\u001b[0m\n\u001b[1;32m     99\u001b[0m                 \u001b[0mself\u001b[0m\u001b[0;34m.\u001b[0m\u001b[0mvalue\u001b[0m \u001b[0;34m=\u001b[0m \u001b[0mvalue\u001b[0m\u001b[0;34m\u001b[0m\u001b[0;34m\u001b[0m\u001b[0m\n\u001b[0;32m--> 100\u001b[0;31m             \u001b[0;32mdef\u001b[0m \u001b[0m__repr__\u001b[0m\u001b[0;34m(\u001b[0m\u001b[0mself\u001b[0m\u001b[0;34m)\u001b[0m\u001b[0;34m:\u001b[0m\u001b[0;34m\u001b[0m\u001b[0;34m\u001b[0m\u001b[0m\n\u001b[0m\u001b[1;32m    101\u001b[0m                 \u001b[0;32mreturn\u001b[0m \u001b[0;34m'<Foo>'\u001b[0m\u001b[0;34m\u001b[0m\u001b[0;34m\u001b[0m\u001b[0m\n\u001b[1;32m    102\u001b[0m         \u001b[0;34m>>\u001b[0m\u001b[0;34m>\u001b[0m \u001b[0;32mclass\u001b[0m \u001b[0mBar\u001b[0m\u001b[0;34m:\u001b[0m\u001b[0;34m\u001b[0m\u001b[0;34m\u001b[0m\u001b[0m\n",
      "\u001b[0;31mEnforceError\u001b[0m: <Foo> is not like <Bar>. Please adjust your epsilon, 2, to be higher than 4. A value: 1. B value: 5."
     ]
    }
   ],
   "source": [
    "msg = '{a} is not like {b}. Please adjust your epsilon, {epsilon}, '\n",
    "msg += 'to be higher than {delta}. '\n",
    "msg += 'A value: {a_val}. B value: {b_val}.'\n",
    "EnforceFooBar(Foo(1), '~', Bar(5), 'value', epsilon=2, message=msg)"
   ]
  },
  {
   "cell_type": "code",
   "execution_count": null,
   "metadata": {},
   "outputs": [],
   "source": []
  },
  {
   "cell_type": "code",
   "execution_count": null,
   "metadata": {},
   "outputs": [],
   "source": []
  }
 ],
 "metadata": {
  "kernelspec": {
   "display_name": "Python 3 (ipykernel)",
   "language": "python",
   "name": "python3"
  },
  "language_info": {
   "codemirror_mode": {
    "name": "ipython",
    "version": 3
   },
   "file_extension": ".py",
   "mimetype": "text/x-python",
   "name": "python",
   "nbconvert_exporter": "python",
   "pygments_lexer": "ipython3",
   "version": "3.10.6"
  }
 },
 "nbformat": 4,
 "nbformat_minor": 4
}
