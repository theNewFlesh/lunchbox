{
 "cells": [
  {
   "cell_type": "code",
   "execution_count": 17,
   "metadata": {},
   "outputs": [
    {
     "name": "stdout",
     "output_type": "stream",
     "text": [
      "/root/lunchbox/python\n"
     ]
    },
    {
     "ename": "EnforceError",
     "evalue": "\na       --> Bar<12>\nb       --> Bar<10>\na_val   --> 12\nb_val   --> 10\ndelta   --> None\nepsilon --> 0.01",
     "output_type": "error",
     "traceback": [
      "\u001b[0;31m--------------------------------------------------------------------------\u001b[0m",
      "\u001b[0;31mEnforceError\u001b[0m                             Traceback (most recent call last)",
      "\u001b[0;32m<ipython-input-17-914ee4948a15>\u001b[0m in \u001b[0;36m<module>\u001b[0;34m\u001b[0m\n\u001b[1;32m     28\u001b[0m \u001b[0mdelta\u001b[0m   \u001b[0;34m-\u001b[0m\u001b[0;34m->\u001b[0m \u001b[0;34m{\u001b[0m\u001b[0mdelta\u001b[0m\u001b[0;34m}\u001b[0m\u001b[0;34m\u001b[0m\u001b[0;34m\u001b[0m\u001b[0m\n\u001b[1;32m     29\u001b[0m epsilon --> {epsilon}'''\n\u001b[0;32m---> 30\u001b[0;31m \u001b[0mFoo\u001b[0m\u001b[0;34m(\u001b[0m\u001b[0ma\u001b[0m\u001b[0;34m,\u001b[0m \u001b[0;34m'=='\u001b[0m\u001b[0;34m,\u001b[0m \u001b[0mb\u001b[0m\u001b[0;34m,\u001b[0m \u001b[0;34m'value'\u001b[0m\u001b[0;34m,\u001b[0m \u001b[0mmessage\u001b[0m\u001b[0;34m=\u001b[0m\u001b[0mmsg\u001b[0m\u001b[0;34m)\u001b[0m\u001b[0;34m\u001b[0m\u001b[0;34m\u001b[0m\u001b[0m\n\u001b[0m",
      "\u001b[0;32m~/lunchbox/python/lunchbox/enforce.py\u001b[0m in \u001b[0;36m__init__\u001b[0;34m(self, a, comparator, b, attribute, message, epsilon)\u001b[0m\n\u001b[1;32m     98\u001b[0m             \u001b[0mresult\u001b[0m \u001b[0;34m=\u001b[0m \u001b[0;32mnot\u001b[0m \u001b[0mresult\u001b[0m\u001b[0;34m\u001b[0m\u001b[0;34m\u001b[0m\u001b[0m\n\u001b[1;32m     99\u001b[0m         \u001b[0;32mif\u001b[0m \u001b[0mresult\u001b[0m \u001b[0;32mis\u001b[0m \u001b[0;32mFalse\u001b[0m\u001b[0;34m:\u001b[0m\u001b[0;34m\u001b[0m\u001b[0;34m\u001b[0m\u001b[0m\n\u001b[0;32m--> 100\u001b[0;31m             \u001b[0;32mraise\u001b[0m \u001b[0mEnforceError\u001b[0m\u001b[0;34m(\u001b[0m\u001b[0mmessage\u001b[0m\u001b[0;34m)\u001b[0m\u001b[0;34m\u001b[0m\u001b[0;34m\u001b[0m\u001b[0m\n\u001b[0m\u001b[1;32m    101\u001b[0m \u001b[0;34m\u001b[0m\u001b[0m\n\u001b[1;32m    102\u001b[0m     \u001b[0;32mdef\u001b[0m \u001b[0m_get_message\u001b[0m\u001b[0;34m(\u001b[0m\u001b[0mself\u001b[0m\u001b[0;34m,\u001b[0m \u001b[0mattribute\u001b[0m\u001b[0;34m,\u001b[0m \u001b[0mcomparator\u001b[0m\u001b[0;34m)\u001b[0m\u001b[0;34m:\u001b[0m\u001b[0;34m\u001b[0m\u001b[0;34m\u001b[0m\u001b[0m\n",
      "\u001b[0;31mEnforceError\u001b[0m: \na       --> Bar<12>\nb       --> Bar<10>\na_val   --> 12\nb_val   --> 10\ndelta   --> None\nepsilon --> 0.01"
     ]
    }
   ],
   "source": [
    "%cd /root/lunchbox/python\n",
    "from lunchbox.enforce import *\n",
    "\n",
    "a = 12\n",
    "b = 10\n",
    "# Enforce(a, '!=', b, 'type_name')\n",
    "# Enforce(10, '!=', 10)\n",
    "# Enforce(a, '~', b, epsilon=1)\n",
    "\n",
    "class Foo(Enforce):\n",
    "    def get_value(self, item):\n",
    "        return item.value\n",
    "    \n",
    "class Bar:\n",
    "    def __init__(self, value):\n",
    "        self.value = value\n",
    "\n",
    "    def __repr__(self):\n",
    "        return f'Bar<{self.value}>'\n",
    "    \n",
    "a = Bar(12)\n",
    "b = Bar(10)\n",
    "msg = '''\n",
    "a       --> {a}\n",
    "b       --> {b}\n",
    "a_val   --> {a_val}\n",
    "b_val   --> {b_val}\n",
    "delta   --> {delta}\n",
    "epsilon --> {epsilon}'''\n",
    "Foo(a, '==', b, 'value', message=msg)"
   ]
  },
  {
   "cell_type": "code",
   "execution_count": null,
   "metadata": {},
   "outputs": [],
   "source": []
  }
 ],
 "metadata": {
  "kernelspec": {
   "display_name": "Python 3",
   "language": "python",
   "name": "python3"
  },
  "language_info": {
   "codemirror_mode": {
    "name": "ipython",
    "version": 3
   },
   "file_extension": ".py",
   "mimetype": "text/x-python",
   "name": "python",
   "nbconvert_exporter": "python",
   "pygments_lexer": "ipython3",
   "version": "3.7.8"
  }
 },
 "nbformat": 4,
 "nbformat_minor": 4
}
